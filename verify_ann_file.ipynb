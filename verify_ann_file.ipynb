{
 "cells": [
  {
   "cell_type": "code",
   "execution_count": 6,
   "metadata": {},
   "outputs": [],
   "source": [
    "import highdicom as hd\n",
    "from pathlib import Path"
   ]
  },
  {
   "cell_type": "code",
   "execution_count": 7,
   "metadata": {},
   "outputs": [],
   "source": [
    "data_dir = Path('/home/dschacherer/bmdeep_conversion/data/bmdeep_DICOM_converted/F7177163C833DFF4B38FC8D2872F1EC6_1_bm')"
   ]
  },
  {
   "cell_type": "code",
   "execution_count": 11,
   "metadata": {},
   "outputs": [
    {
     "name": "stdout",
     "output_type": "stream",
     "text": [
      "/home/dschacherer/bmdeep_conversion/data/bmdeep_DICOM_converted/F7177163C833DFF4B38FC8D2872F1EC6_1_bm/F7177163C833DFF4B38FC8D2872F1EC6_1_bm_ann_step_1.dcm\n",
      "1\n",
      "/home/dschacherer/bmdeep_conversion/data/bmdeep_DICOM_converted/F7177163C833DFF4B38FC8D2872F1EC6_1_bm/F7177163C833DFF4B38FC8D2872F1EC6_1_bm_ann_step_2.dcm\n",
      "1\n",
      "/home/dschacherer/bmdeep_conversion/data/bmdeep_DICOM_converted/F7177163C833DFF4B38FC8D2872F1EC6_1_bm/F7177163C833DFF4B38FC8D2872F1EC6_1_bm_ann_step_3.dcm\n",
      "1\n",
      "/home/dschacherer/bmdeep_conversion/data/bmdeep_DICOM_converted/F7177163C833DFF4B38FC8D2872F1EC6_1_bm/F7177163C833DFF4B38FC8D2872F1EC6_1_bm_ann_step_4.dcm\n",
      "0\n",
      "/home/dschacherer/bmdeep_conversion/data/bmdeep_DICOM_converted/F7177163C833DFF4B38FC8D2872F1EC6_1_bm/F7177163C833DFF4B38FC8D2872F1EC6_1_bm_ann_step_5.dcm\n",
      "1\n",
      "/home/dschacherer/bmdeep_conversion/data/bmdeep_DICOM_converted/F7177163C833DFF4B38FC8D2872F1EC6_1_bm/F7177163C833DFF4B38FC8D2872F1EC6_1_bm_ann_step_consensus.dcm\n",
      "1\n"
     ]
    }
   ],
   "source": [
    "for ann_file in sorted(data_dir.rglob('*_ann_*.dcm')): \n",
    "    print(ann_file)\n",
    "    ann = hd.ann.annread(ann_file)\n",
    "    ann_groups = ann.get_annotation_groups()\n",
    "    print(len(ann_groups))"
   ]
  },
  {
   "cell_type": "code",
   "execution_count": null,
   "metadata": {},
   "outputs": [],
   "source": []
  }
 ],
 "metadata": {
  "kernelspec": {
   "display_name": "bmdeep_conversion",
   "language": "python",
   "name": "python3"
  },
  "language_info": {
   "codemirror_mode": {
    "name": "ipython",
    "version": 3
   },
   "file_extension": ".py",
   "mimetype": "text/x-python",
   "name": "python",
   "nbconvert_exporter": "python",
   "pygments_lexer": "ipython3",
   "version": "3.12.3"
  }
 },
 "nbformat": 4,
 "nbformat_minor": 2
}
